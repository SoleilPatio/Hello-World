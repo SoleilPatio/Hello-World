{
 "cells": [
  {
   "cell_type": "code",
   "execution_count": 90,
   "metadata": {},
   "outputs": [
    {
     "name": "stdout",
     "output_type": "stream",
     "text": [
      "<Book [test.xlsx]> <Book [test.xlsx]> <Book [Book7]>\n"
     ]
    }
   ],
   "source": [
    "import xlwings as xw\n",
    "\n",
    "#Establish a connection to a workbook\n",
    "wb1 = xw.Book(r\"D:\\Users\\clouds\\Desktop\\test.xlsx\")\n",
    "wb2 = xw.Book(r\"D:\\Users\\clouds\\Desktop\\test.xlsx\")\n",
    "wb3 = xw.Book() #create a new workbook\n",
    "print wb1,wb2,wb3"
   ]
  },
  {
   "cell_type": "code",
   "execution_count": 91,
   "metadata": {},
   "outputs": [
    {
     "name": "stdout",
     "output_type": "stream",
     "text": [
      "List the opened excel file instances:\n",
      "\ttest.xlsx\n",
      "\tBook5\n",
      "\tBook6\n",
      "\tBook7\n",
      "------\n",
      "<Book [test.xlsx]>\n"
     ]
    }
   ],
   "source": [
    "#List the opened excel files\n",
    "print \"List the opened excel file instances:\"\n",
    "for book in xw.apps[0].books:\n",
    "    print \"\\t\",book.name\n",
    "    \n",
    "print \"------\"\n",
    "print xw.apps[0].books[\"test.xlsx\"]"
   ]
  },
  {
   "cell_type": "code",
   "execution_count": 92,
   "metadata": {},
   "outputs": [
    {
     "name": "stdout",
     "output_type": "stream",
     "text": [
      "<Sheet [test.xlsx]Sheet1>\n"
     ]
    }
   ],
   "source": [
    "#Sheet Object\n",
    "sht = wb1.sheets['Sheet1']\n",
    "\n",
    "print sht"
   ]
  },
  {
   "cell_type": "code",
   "execution_count": 93,
   "metadata": {},
   "outputs": [
    {
     "name": "stdout",
     "output_type": "stream",
     "text": [
      "中文測試可以嗎\n"
     ]
    }
   ],
   "source": [
    "#Write Sheet\n",
    "sht.range('A1').value = u'中文測試可以嗎'\n",
    "print sht.range('A1').value"
   ]
  },
  {
   "cell_type": "code",
   "execution_count": 94,
   "metadata": {},
   "outputs": [
    {
     "name": "stdout",
     "output_type": "stream",
     "text": [
      "<type 'float'> 0.0\n",
      "<type 'list'> [[0.0, 1.0, 2.0], [u'a', u'b', u'c']]\n"
     ]
    }
   ],
   "source": [
    "sht.range('A2').value = [[ x for x in range(3)], [ \"a\", \"b\", \"c\"]]\n",
    "value = sht.range('A2').value\n",
    "print type(value), value\n",
    "value = sht.range('A2').expand().value\n",
    "print type(value), value"
   ]
  },
  {
   "cell_type": "code",
   "execution_count": 95,
   "metadata": {},
   "outputs": [
    {
     "data": {
      "image/png": "[encoded data removed]",
      "text/plain": [
       "<matplotlib.figure.Figure at 0x9be5b70>"
      ]
     },
     "metadata": {},
     "output_type": "display_data"
    },
    {
     "data": {
      "text/plain": [
       "<Picture 'MyPlot' in <Sheet [test.xlsx]Sheet1>>"
      ]
     },
     "execution_count": 95,
     "metadata": {},
     "output_type": "execute_result"
    }
   ],
   "source": [
    "\"\"\"\n",
    "[CLS]:show matplotlib on excel\n",
    "\"\"\"\n",
    "import matplotlib.pyplot as plt\n",
    "fig = plt.figure() #[CLS]:a fig is a pyplot window\n",
    "plt.plot([1, 2, 3, 4, 9])\n",
    "plt.show()\n",
    "sht.pictures.add(fig, name='MyPlot', update=True)"
   ]
  },
  {
   "cell_type": "code",
   "execution_count": 96,
   "metadata": {},
   "outputs": [
    {
     "data": {
      "text/plain": [
       "u'FOO'"
      ]
     },
     "execution_count": 96,
     "metadata": {},
     "output_type": "execute_result"
    }
   ],
   "source": [
    "\"\"\"\n",
    "[CLS]:直接跟作用中的excel/sheet交談,什麼都不用設定\n",
    "\"\"\"\n",
    "xw.Range('A1').value = 'FOO'\n",
    "xw.Range('A1').value\n"
   ]
  },
  {
   "cell_type": "code",
   "execution_count": null,
   "metadata": {
    "collapsed": true
   },
   "outputs": [],
   "source": []
  }
 ],
 "metadata": {
  "kernelspec": {
   "display_name": "Python 2",
   "language": "python",
   "name": "python2"
  },
  "language_info": {
   "codemirror_mode": {
    "name": "ipython",
    "version": 2
   },
   "file_extension": ".py",
   "mimetype": "text/x-python",
   "name": "python",
   "nbconvert_exporter": "python",
   "pygments_lexer": "ipython2",
   "version": "2.7.12"
  }
 },
 "nbformat": 4,
 "nbformat_minor": 2
}
