{
 "metadata": {
  "language_info": {
   "codemirror_mode": {
    "name": "ipython",
    "version": 3
   },
   "file_extension": ".py",
   "mimetype": "text/x-python",
   "name": "python",
   "nbconvert_exporter": "python",
   "pygments_lexer": "ipython3",
   "version": "3.6.9-final"
  },
  "orig_nbformat": 2,
  "kernelspec": {
   "name": "python3",
   "display_name": "Python 3.6.9 64-bit",
   "metadata": {
    "interpreter": {
     "hash": "31f2aee4e71d21fbe5cf8b01ff0e069b9275f58929596ceb00d14d90e3e16cd6"
    }
   }
  }
 },
 "nbformat": 4,
 "nbformat_minor": 2,
 "cells": [
  {
   "source": [
    "#Use token list as command line\n",
    "from subprocess import Popen, PIPE\n",
    "\"\"\"\n",
    "[CLS]:can handle process's input,output,and stderr\n",
    "\"\"\"\n",
    "#[CLS]: universal_newlines = True : pipe open in text mode (string) ,or it is binary mode (byte object, need obj.decode())\n",
    "p = Popen(['ls',\"-l\",\"-F\"], stdout=PIPE, stderr=PIPE, stdin=PIPE, universal_newlines=True)\n",
    "#[CLS]: communicate() return (stdout, stderr)\n",
    "stdout, stderr = p.communicate(input='my name is clouds\\n') #input string\n",
    "return_code = p.returncode\n",
    "print(\"\\n[stdout]=\\n\",stdout)\n",
    "print(\"\\n[stderr]=\\n\",stderr)\n",
    "print(\"\\n[return_code]=\\n\",return_code)\n"
   ],
   "cell_type": "code",
   "metadata": {},
   "execution_count": null,
   "outputs": []
  },
  {
   "cell_type": "code",
   "execution_count": 8,
   "metadata": {},
   "outputs": [
    {
     "output_type": "stream",
     "name": "stdout",
     "text": [
      "\n[stdout]=\n argparse_test.py\nbeautifulsoup_test.py\ncommand_line.ipynb\ncommand_line.py\nconfigparser_sample\ncython\nfile-process\ngoogle-api\ngraphviz\nGUI\nimportlib_test.py\njson\njupyter\nlldb-python-script-sample\nlogging-sample\nmatplotlib\nmulti-thread\nnamedtuple_test.py\nopencv\nqueue_sample.py\nrandom_test.py\nregular_expressions.py\nrpy2_test.py\nscipy_test.py\nsympy\ntensorflow\ntimeit_sample.py\nunicode\nxlwings\n/home/clouds/project/hello-world/python/PACKAGE_SAMPLE\n\n\n[stderr]=\n \n\n[return_code]=\n 0\n"
     ]
    }
   ],
   "source": [
    "#Use single string as command line\n",
    "#Use token list as command line\n",
    "from subprocess import Popen, PIPE\n",
    "\"\"\"\n",
    "[CLS]:can handle process's input,output,and stderr\n",
    "\"\"\"\n",
    "#[CLS]: universal_newlines = True : pipe open in text mode (string) ,or it is binary mode (byte object, need obj.decode())\n",
    "#[CLS]: shell=True. nice for a songle command line string\n",
    "p = Popen(\"ls && pwd\", stdout=PIPE, stderr=PIPE, stdin=PIPE, universal_newlines=True, shell=True)\n",
    "#[CLS]: communicate() return (stdout, stderr)\n",
    "stdout, stderr = p.communicate(input='my name is clouds\\n') #input string\n",
    "return_code = p.returncode\n",
    "print(\"\\n[stdout]=\\n\",stdout)\n",
    "print(\"\\n[stderr]=\\n\",stderr)\n",
    "print(\"\\n[return_code]=\\n\",return_code)"
   ]
  }
 ]
}