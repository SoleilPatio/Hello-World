{
 "metadata": {
  "language_info": {
   "codemirror_mode": {
    "name": "ipython",
    "version": 3
   },
   "file_extension": ".py",
   "mimetype": "text/x-python",
   "name": "python",
   "nbconvert_exporter": "python",
   "pygments_lexer": "ipython3",
   "version": "3.8.0-final"
  },
  "orig_nbformat": 2,
  "kernelspec": {
   "name": "python3",
   "display_name": "Python 3.8.0 64-bit",
   "metadata": {
    "interpreter": {
     "hash": "060f3e526e486e12fa08d240ed555ec2335aea6a0da4b045fe0ce6a045f7115f"
    }
   }
  }
 },
 "nbformat": 4,
 "nbformat_minor": 2,
 "cells": [
  {
   "source": [
    "#Use token list as command line\n",
    "from subprocess import Popen, PIPE\n",
    "\"\"\"\n",
    "[CLS]:can handle process's input,output,and stderr\n",
    "\"\"\"\n",
    "p = Popen(['ls',\"-l\",\"-F\"], stdout=PIPE, stderr=PIPE, stdin=PIPE, universal_newlines=True) #[CLS]:universal_newlines is text mode\n",
    "stdout, stderr = p.communicate(input='my name is clouds\\n') #input string\n",
    "print (\"\\n[stdout]=\\n\",stdout)\n",
    "print (\"\\n[stderr]=\\n\",stderr)"
   ],
   "cell_type": "code",
   "metadata": {},
   "execution_count": 5,
   "outputs": [
    {
     "output_type": "stream",
     "name": "stdout",
     "text": [
      "\n[stdout]=\n total 48\ndrwxr-xr-x 1 cloud cloud    0 Mar 28  2020 GUI/\n-rw-r--r-- 1 cloud cloud 2372 Nov 23 21:19 argparse_test.py\n-rw-r--r-- 1 cloud cloud 1992 Nov 23 21:19 beautifulsoup_test.py\n-rw-r--r-- 1 cloud cloud 2992 Dec 27 16:11 command_line.ipynb\n-rw-r--r-- 1 cloud cloud 3209 Nov 23 21:19 command_line.py\ndrwxr-xr-x 1 cloud cloud    0 Jun 17  2019 configparser_sample/\ndrwxr-xr-x 1 cloud cloud    0 Jun 17  2019 cython/\ndrwxr-xr-x 1 cloud cloud    0 Jun 17  2019 file-process/\ndrwxr-xr-x 1 cloud cloud    0 Mar 22  2020 google-api/\ndrwxr-xr-x 1 cloud cloud    0 Jun 17  2019 graphviz/\n-rw-r--r-- 1 cloud cloud  301 Nov 23 21:19 importlib_test.py\ndrwxr-xr-x 1 cloud cloud    0 Nov 23 21:13 json/\ndrwxr-xr-x 1 cloud cloud    0 Jun 17  2019 jupyter/\ndrwxr-xr-x 1 cloud cloud    0 Jun 17  2019 lldb-python-script-sample/\ndrwxr-xr-x 1 cloud cloud    0 Mar 29  2020 logging-sample/\ndrwxr-xr-x 1 cloud cloud    0 Dec 18 20:39 matplotlib/\ndrwxr-xr-x 1 cloud cloud    0 Jun 17  2019 multi-thread/\n-rw-r--r-- 1 cloud cloud  624 Nov 23 21:19 namedtuple_test.py\ndrwxr-xr-x 1 cloud cloud    0 Jun 17  2019 opencv/\n-rw-r--r-- 1 cloud cloud 1099 Nov 23 21:19 queue_sample.py\n-rw-r--r-- 1 cloud cloud  598 Nov 23 21:19 random_test.py\n-rw-r--r-- 1 cloud cloud 5521 Nov 23 21:19 regular_expressions.py\n-rw-r--r-- 1 cloud cloud  963 Nov 23 21:19 rpy2_test.py\n-rw-r--r-- 1 cloud cloud  920 Dec 13 12:13 scipy_test.py\ndrwxr-xr-x 1 cloud cloud    0 Jun 17  2019 sympy/\ndrwxr-xr-x 1 cloud cloud    0 Jun 17  2019 tensorflow/\n-rw-r--r-- 1 cloud cloud  613 Nov 23 21:19 timeit_sample.py\ndrwxr-xr-x 1 cloud cloud    0 Feb  9  2020 unicode/\ndrwxr-xr-x 1 cloud cloud    0 Jun 17  2019 xlwings/\n\n\n[stderr]=\n \n"
     ]
    }
   ]
  },
  {
   "cell_type": "code",
   "execution_count": 6,
   "metadata": {},
   "outputs": [
    {
     "output_type": "stream",
     "name": "stdout",
     "text": [
      "\n[stdout]=\n total 48\ndrwxr-xr-x 1 cloud cloud    0 Mar 28  2020 GUI/\n-rw-r--r-- 1 cloud cloud 2372 Nov 23 21:19 argparse_test.py\n-rw-r--r-- 1 cloud cloud 1992 Nov 23 21:19 beautifulsoup_test.py\n-rw-r--r-- 1 cloud cloud 2992 Dec 27 16:11 command_line.ipynb\n-rw-r--r-- 1 cloud cloud 3209 Nov 23 21:19 command_line.py\ndrwxr-xr-x 1 cloud cloud    0 Jun 17  2019 configparser_sample/\ndrwxr-xr-x 1 cloud cloud    0 Jun 17  2019 cython/\ndrwxr-xr-x 1 cloud cloud    0 Jun 17  2019 file-process/\ndrwxr-xr-x 1 cloud cloud    0 Mar 22  2020 google-api/\ndrwxr-xr-x 1 cloud cloud    0 Jun 17  2019 graphviz/\n-rw-r--r-- 1 cloud cloud  301 Nov 23 21:19 importlib_test.py\ndrwxr-xr-x 1 cloud cloud    0 Nov 23 21:13 json/\ndrwxr-xr-x 1 cloud cloud    0 Jun 17  2019 jupyter/\ndrwxr-xr-x 1 cloud cloud    0 Jun 17  2019 lldb-python-script-sample/\ndrwxr-xr-x 1 cloud cloud    0 Mar 29  2020 logging-sample/\ndrwxr-xr-x 1 cloud cloud    0 Dec 18 20:39 matplotlib/\ndrwxr-xr-x 1 cloud cloud    0 Jun 17  2019 multi-thread/\n-rw-r--r-- 1 cloud cloud  624 Nov 23 21:19 namedtuple_test.py\ndrwxr-xr-x 1 cloud cloud    0 Jun 17  2019 opencv/\n-rw-r--r-- 1 cloud cloud 1099 Nov 23 21:19 queue_sample.py\n-rw-r--r-- 1 cloud cloud  598 Nov 23 21:19 random_test.py\n-rw-r--r-- 1 cloud cloud 5521 Nov 23 21:19 regular_expressions.py\n-rw-r--r-- 1 cloud cloud  963 Nov 23 21:19 rpy2_test.py\n-rw-r--r-- 1 cloud cloud  920 Dec 13 12:13 scipy_test.py\ndrwxr-xr-x 1 cloud cloud    0 Jun 17  2019 sympy/\ndrwxr-xr-x 1 cloud cloud    0 Jun 17  2019 tensorflow/\n-rw-r--r-- 1 cloud cloud  613 Nov 23 21:19 timeit_sample.py\ndrwxr-xr-x 1 cloud cloud    0 Feb  9  2020 unicode/\ndrwxr-xr-x 1 cloud cloud    0 Jun 17  2019 xlwings/\n\n\n[stderr]=\n \n"
     ]
    }
   ],
   "source": [
    "#Use single string as command line\n",
    "from subprocess import Popen, PIPE\n",
    "\"\"\"\n",
    "[CLS]:can handle process's input,output,and stderr\n",
    "\"\"\"\n",
    "p = Popen(\"ls -lF\", stdout=PIPE, stderr=PIPE, stdin=PIPE, shell=True, universal_newlines=True) #[CLS]:universal_newlines is text mode\n",
    "stdout, stderr = p.communicate(input='my name is clouds\\n') #input string\n",
    "print (\"\\n[stdout]=\\n\",stdout)\n",
    "print (\"\\n[stderr]=\\n\",stderr)"
   ]
  }
 ]
}