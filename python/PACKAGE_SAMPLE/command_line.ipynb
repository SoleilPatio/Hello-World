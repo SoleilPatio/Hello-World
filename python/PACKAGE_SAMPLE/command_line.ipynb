{
 "metadata": {
  "language_info": {
   "codemirror_mode": {
    "name": "ipython",
    "version": 3
   },
   "file_extension": ".py",
   "mimetype": "text/x-python",
   "name": "python",
   "nbconvert_exporter": "python",
   "pygments_lexer": "ipython3",
   "version": "2.7.17-final"
  },
  "orig_nbformat": 2,
  "kernelspec": {
   "name": "python2",
   "display_name": "Python 2",
   "language": "python"
  }
 },
 "nbformat": 4,
 "nbformat_minor": 2,
 "cells": [
  {
   "source": [
    "#Use token list as command line\n",
    "from subprocess import Popen, PIPE\n",
    "\"\"\"\n",
    "[CLS]:can handle process's input,output,and stderr\n",
    "\"\"\"\n",
    "p = Popen(['ls',\"-l\",\"-F\"], stdout=PIPE, stderr=PIPE, stdin=PIPE)\n",
    "stdout, stderr = p.communicate(input='my name is clouds\\n') #input string\n",
    "print \"\\n[stdout]=\\n\",stdout\n",
    "print \"\\n[stderr]=\\n\",stderr"
   ],
   "cell_type": "code",
   "metadata": {},
   "execution_count": null,
   "outputs": []
  },
  {
   "cell_type": "code",
   "execution_count": null,
   "metadata": {},
   "outputs": [],
   "source": [
    "#Use single string as command line\n",
    "from subprocess import Popen, PIPE\n",
    "\"\"\"\n",
    "[CLS]:can handle process's input,output,and stderr\n",
    "\"\"\"\n",
    "p = Popen(\"ls -lF\", stdout=PIPE, stderr=PIPE, stdin=PIPE, shell=True)\n",
    "stdout, stderr = p.communicate(input='my name is clouds\\n') #input string\n",
    "print \"\\n[stdout]=\\n\",stdout\n",
    "print \"\\n[stderr]=\\n\",stderr"
   ]
  }
 ]
}